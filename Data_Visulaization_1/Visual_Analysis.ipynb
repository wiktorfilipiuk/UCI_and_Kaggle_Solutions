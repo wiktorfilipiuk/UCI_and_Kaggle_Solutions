{
 "cells": [
  {
   "cell_type": "markdown",
   "metadata": {},
   "source": [
    "# Data Description"
   ]
  },
  {
   "cell_type": "code",
   "execution_count": 1,
   "metadata": {},
   "outputs": [],
   "source": [
    "######################################################\n",
    "# Source:\n",
    "  \n",
    "# Kelwin Fernandes (kafc _at_ inesctec _dot_ pt) - INESC TEC & FEUP, Porto, Portugal. \n",
    "# Jaime S. Cardoso - INESC TEC & FEUP, Porto, Portugal. \n",
    "# Jessica Fernandes - Universidad Central de Venezuela, Caracas, Venezuela.\n",
    "# \n",
    "# \n",
    "# Data Set Information:\n",
    "#   \n",
    "#   The dataset was collected at 'Hospital Universitario de Caracas' in Caracas, Venezuela. \n",
    "#   The dataset comprises demographic information, habits, and historic medical records of 858 patients. \n",
    "#   Several patients decided not to answer some of the questions because of privacy concerns (missing values).\n",
    "# \n",
    "# \n",
    "# Attribute Information:\n",
    "#   \n",
    "# (int) Age \n",
    "# (int) Number of sexual partners \n",
    "# (int) First sexual intercourse (age) \n",
    "# (int) Num of pregnancies \n",
    "# (bool) Smokes \n",
    "# (bool) Smokes (years) \n",
    "# (bool) Smokes (packs/year) \n",
    "# (bool) Hormonal Contraceptives \n",
    "# (int) Hormonal Contraceptives (years) \n",
    "# (bool) IUD \n",
    "# (int) IUD (years) \n",
    "# (bool) STDs \n",
    "# (int) STDs (number) \n",
    "# (bool) STDs:condylomatosis \n",
    "# (bool) STDs:cervical condylomatosis \n",
    "# (bool) STDs:vaginal condylomatosis \n",
    "# (bool) STDs:vulvo-perineal condylomatosis \n",
    "# (bool) STDs:syphilis \n",
    "# (bool) STDs:pelvic inflammatory disease \n",
    "# (bool) STDs:genital herpes \n",
    "# (bool) STDs:molluscum contagiosum \n",
    "# (bool) STDs:AIDS \n",
    "# (bool) STDs:HIV \n",
    "# (bool) STDs:Hepatitis B \n",
    "# (bool) STDs:HPV \n",
    "# (int) STDs: Number of diagnosis \n",
    "# (int) STDs: Time since first diagnosis \n",
    "# (int) STDs: Time since last diagnosis \n",
    "# (bool) Dx:Cancer \n",
    "# (bool) Dx:CIN \n",
    "# (bool) Dx:HPV \n",
    "# (bool) Dx \n",
    "# (bool) Hinselmann: target variable \n",
    "# (bool) Schiller: target variable \n",
    "# (bool) Cytology: target variable \n",
    "# (bool) Biopsy: target variable\n",
    "######################################################"
   ]
  },
  {
   "cell_type": "markdown",
   "metadata": {},
   "source": [
    "# 1. Prepare Environment"
   ]
  },
  {
   "cell_type": "code",
   "execution_count": 2,
   "metadata": {},
   "outputs": [],
   "source": [
    "library(ggplot2)\n",
    "library(ggcorrplot)\n",
    "library(ggalt)\n",
    "library(ggfortify)\n",
    "library(ggrepel)\n",
    "library(ggthemes)\n",
    "\n",
    "library(repr)\n",
    "library(IRdisplay)"
   ]
  },
  {
   "cell_type": "code",
   "execution_count": 3,
   "metadata": {},
   "outputs": [],
   "source": [
    "data = read.csv(file = \"Datasets\\\\risk_factors_cervical_cancer.csv\", header = TRUE, sep = \",\")"
   ]
  },
  {
   "cell_type": "markdown",
   "metadata": {},
   "source": [
    "# 2. Investigate the Content of Dataset"
   ]
  },
  {
   "cell_type": "code",
   "execution_count": 4,
   "metadata": {},
   "outputs": [
    {
     "name": "stdout",
     "output_type": "stream",
     "text": [
      "[1] \"Number of rows: 858\"\n",
      "[1] \"Number of columns: 36\"\n",
      "[1] \"---------------------------------------------------------------\"\n",
      "      Age        Number.of.sexual.partners First.sexual.intercourse\n",
      " Min.   :13.00   2.0    :272               15.0   :163             \n",
      " 1st Qu.:20.00   3.0    :208               17.0   :151             \n",
      " Median :25.00   1.0    :206               18.0   :137             \n",
      " Mean   :26.82   4.0    : 78               16.0   :121             \n",
      " 3rd Qu.:32.00   5.0    : 44               14.0   : 79             \n",
      " Max.   :84.00   ?      : 26               19.0   : 60             \n",
      "                 (Other): 24               (Other):147             \n",
      " Num.of.pregnancies Smokes   \n",
      " 1.0    :270        ?  : 13  \n",
      " 2.0    :240        0.0:722  \n",
      " 3.0    :139        1.0:123  \n",
      " 4.0    : 74                 \n",
      " ?      : 56                 \n",
      " 5.0    : 35                 \n",
      " (Other): 44                 \n"
     ]
    }
   ],
   "source": [
    "print(paste0(\"Number of rows: \", dim(data)[1]))\n",
    "print(paste0(\"Number of columns: \", dim(data)[2]))\n",
    "print(\"---------------------------------------------------------------\")\n",
    "\n",
    "print(summary(data)[1:7,1:5])"
   ]
  },
  {
   "cell_type": "markdown",
   "metadata": {},
   "source": [
    "#### Comments: \n",
    "- There are several columns with missing values marked as \"?\""
   ]
  },
  {
   "cell_type": "code",
   "execution_count": 5,
   "metadata": {},
   "outputs": [
    {
     "name": "stdout",
     "output_type": "stream",
     "text": [
      "'data.frame':\t858 obs. of  36 variables:\n",
      " $ Age                               : int  18 15 34 52 46 ...\n",
      " $ Number.of.sexual.partners         : Factor w/ 13 levels \"?\",\"1.0\",\"10.0\",..: 8 2 2 9 7 ...\n",
      " $ First.sexual.intercourse          : Factor w/ 22 levels \"?\",\"10.0\",\"11.0\",..: 7 6 1 8 13 ...\n",
      " $ Num.of.pregnancies                : Factor w/ 12 levels \"?\",\"0.0\",\"1.0\",..: 3 3 3 8 8 ...\n",
      " $ Smokes                            : Factor w/ 3 levels \"?\",\"0.0\",\"1.0\": 2 2 2 3 2 ...\n",
      " $ Smokes..years.                    : Factor w/ 31 levels \"?\",\"0.0\",\"0.16\",..: 2 2 2 25 2 ...\n",
      " $ Smokes..packs.year.               : Factor w/ 63 levels \"?\",\"0.0\",\"0.001\",..: 2 2 2 51 2 ...\n",
      " $ Hormonal.Contraceptives           : Factor w/ 3 levels \"?\",\"0.0\",\"1.0\": 2 2 2 3 3 ...\n",
      " $ Hormonal.Contraceptives..years.   : Factor w/ 41 levels \"?\",\"0.0\",\"0.08\",..: 2 2 2 31 22 ...\n",
      " $ IUD                               : Factor w/ 3 levels \"?\",\"0.0\",\"1.0\": 2 2 2 2 2 ...\n",
      " $ IUD..years.                       : Factor w/ 27 levels \"?\",\"0.0\",\"0.08\",..: 2 2 2 2 2 ...\n",
      " $ STDs                              : Factor w/ 3 levels \"?\",\"0.0\",\"1.0\": 2 2 2 2 2 ...\n",
      " $ STDs..number.                     : Factor w/ 6 levels \"?\",\"0.0\",\"1.0\",..: 2 2 2 2 2 ...\n",
      " $ STDs.condylomatosis               : Factor w/ 3 levels \"?\",\"0.0\",\"1.0\": 2 2 2 2 2 ...\n",
      " $ STDs.cervical.condylomatosis      : Factor w/ 2 levels \"?\",\"0.0\": 2 2 2 2 2 ...\n",
      " $ STDs.vaginal.condylomatosis       : Factor w/ 3 levels \"?\",\"0.0\",\"1.0\": 2 2 2 2 2 ...\n",
      " $ STDs.vulvo.perineal.condylomatosis: Factor w/ 3 levels \"?\",\"0.0\",\"1.0\": 2 2 2 2 2 ...\n",
      " $ STDs.syphilis                     : Factor w/ 3 levels \"?\",\"0.0\",\"1.0\": 2 2 2 2 2 ...\n",
      " $ STDs.pelvic.inflammatory.disease  : Factor w/ 3 levels \"?\",\"0.0\",\"1.0\": 2 2 2 2 2 ...\n",
      " $ STDs.genital.herpes               : Factor w/ 3 levels \"?\",\"0.0\",\"1.0\": 2 2 2 2 2 ...\n",
      " $ STDs.molluscum.contagiosum        : Factor w/ 3 levels \"?\",\"0.0\",\"1.0\": 2 2 2 2 2 ...\n",
      " $ STDs.AIDS                         : Factor w/ 2 levels \"?\",\"0.0\": 2 2 2 2 2 ...\n",
      " $ STDs.HIV                          : Factor w/ 3 levels \"?\",\"0.0\",\"1.0\": 2 2 2 2 2 ...\n",
      " $ STDs.Hepatitis.B                  : Factor w/ 3 levels \"?\",\"0.0\",\"1.0\": 2 2 2 2 2 ...\n",
      " $ STDs.HPV                          : Factor w/ 3 levels \"?\",\"0.0\",\"1.0\": 2 2 2 2 2 ...\n",
      " $ STDs..Number.of.diagnosis         : int  0 0 0 0 0 ...\n",
      " $ STDs..Time.since.first.diagnosis  : Factor w/ 19 levels \"?\",\"1.0\",\"10.0\",..: 1 1 1 1 1 ...\n",
      " $ STDs..Time.since.last.diagnosis   : Factor w/ 19 levels \"?\",\"1.0\",\"10.0\",..: 1 1 1 1 1 ...\n",
      " $ Dx.Cancer                         : int  0 0 0 1 0 ...\n",
      " $ Dx.CIN                            : int  0 0 0 0 0 ...\n",
      " $ Dx.HPV                            : int  0 0 0 1 0 ...\n",
      " $ Dx                                : int  0 0 0 0 0 ...\n",
      " $ Hinselmann                        : int  0 0 0 0 0 ...\n",
      " $ Schiller                          : int  0 0 0 0 0 ...\n",
      " $ Citology                          : int  0 0 0 0 0 ...\n",
      " $ Biopsy                            : int  0 0 0 0 0 ...\n",
      "NULL\n"
     ]
    }
   ],
   "source": [
    "print(str(data, vec.len = 2))"
   ]
  },
  {
   "cell_type": "markdown",
   "metadata": {},
   "source": [
    "### Comments: \n",
    "- Bool variables, such as \"Dx.Cancer\", \"Hinselmann\", etc. are currently  of integer type.\n",
    "- Other Variables, such as \"Smokes..years.\" are of Factor type, while they shold be integers\n"
   ]
  },
  {
   "cell_type": "markdown",
   "metadata": {},
   "source": [
    "# 3. Data Preprocessing"
   ]
  },
  {
   "cell_type": "markdown",
   "metadata": {},
   "source": [
    "## 3.1 Refactor Missing Data "
   ]
  },
  {
   "cell_type": "code",
   "execution_count": 6,
   "metadata": {},
   "outputs": [
    {
     "data": {
      "text/html": [
       "<table>\n",
       "<thead><tr><th scope=col>Age</th><th scope=col>Number.of.sexual.partners</th><th scope=col>First.sexual.intercourse</th><th scope=col>Num.of.pregnancies</th><th scope=col>Smokes</th></tr></thead>\n",
       "<tbody>\n",
       "\t<tr><td>18  </td><td>4.0 </td><td>15.0</td><td>1.0 </td><td>0.0 </td></tr>\n",
       "\t<tr><td>15  </td><td>1.0 </td><td>14.0</td><td>1.0 </td><td>0.0 </td></tr>\n",
       "\t<tr><td>34  </td><td>1.0 </td><td>NA  </td><td>1.0 </td><td>0.0 </td></tr>\n",
       "\t<tr><td>52  </td><td>5.0 </td><td>16.0</td><td>4.0 </td><td>1.0 </td></tr>\n",
       "\t<tr><td>46  </td><td>3.0 </td><td>21.0</td><td>4.0 </td><td>0.0 </td></tr>\n",
       "</tbody>\n",
       "</table>\n"
      ],
      "text/latex": [
       "\\begin{tabular}{r|lllll}\n",
       " Age & Number.of.sexual.partners & First.sexual.intercourse & Num.of.pregnancies & Smokes\\\\\n",
       "\\hline\n",
       "\t 18   & 4.0  & 15.0 & 1.0  & 0.0 \\\\\n",
       "\t 15   & 1.0  & 14.0 & 1.0  & 0.0 \\\\\n",
       "\t 34   & 1.0  & NA   & 1.0  & 0.0 \\\\\n",
       "\t 52   & 5.0  & 16.0 & 4.0  & 1.0 \\\\\n",
       "\t 46   & 3.0  & 21.0 & 4.0  & 0.0 \\\\\n",
       "\\end{tabular}\n"
      ],
      "text/markdown": [
       "\n",
       "Age | Number.of.sexual.partners | First.sexual.intercourse | Num.of.pregnancies | Smokes | \n",
       "|---|---|---|---|---|\n",
       "| 18   | 4.0  | 15.0 | 1.0  | 0.0  | \n",
       "| 15   | 1.0  | 14.0 | 1.0  | 0.0  | \n",
       "| 34   | 1.0  | NA   | 1.0  | 0.0  | \n",
       "| 52   | 5.0  | 16.0 | 4.0  | 1.0  | \n",
       "| 46   | 3.0  | 21.0 | 4.0  | 0.0  | \n",
       "\n",
       "\n"
      ],
      "text/plain": [
       "  Age Number.of.sexual.partners First.sexual.intercourse Num.of.pregnancies\n",
       "1 18  4.0                       15.0                     1.0               \n",
       "2 15  1.0                       14.0                     1.0               \n",
       "3 34  1.0                       NA                       1.0               \n",
       "4 52  5.0                       16.0                     4.0               \n",
       "5 46  3.0                       21.0                     4.0               \n",
       "  Smokes\n",
       "1 0.0   \n",
       "2 0.0   \n",
       "3 0.0   \n",
       "4 1.0   \n",
       "5 0.0   "
      ]
     },
     "metadata": {},
     "output_type": "display_data"
    }
   ],
   "source": [
    "#-- Replace \"?\" with more proper missing value naming: \"NA\"\n",
    "data_mv = data\n",
    "for(name in names(data_mv)){\n",
    "  if(class(data_mv[ , name]) == \"factor\"){\n",
    "    levels(data_mv[ , name])[match(\"?\",levels(data_mv[ , name]))] <- NA\n",
    "  }\n",
    "}\n",
    "data_mv[1:5,1:5]"
   ]
  },
  {
   "cell_type": "markdown",
   "metadata": {},
   "source": [
    "## 3.2 Fix Data Types "
   ]
  },
  {
   "cell_type": "code",
   "execution_count": 7,
   "metadata": {},
   "outputs": [
    {
     "name": "stdout",
     "output_type": "stream",
     "text": [
      "'data.frame':\t858 obs. of  36 variables:\n",
      " $ Age                               : int  18 15 34 52 46 42 51 26 45 44 ...\n",
      " $ Number.of.sexual.partners         : int  4 1 1 5 3 3 3 1 1 3 ...\n",
      " $ First.sexual.intercourse          : int  15 14 NA 16 21 23 17 26 20 15 ...\n",
      " $ Num.of.pregnancies                : int  1 1 1 4 4 2 6 3 5 NA ...\n",
      " $ Smokes                            : logi  FALSE FALSE FALSE TRUE FALSE FALSE ...\n",
      " $ Smokes..years.                    : int  0 0 0 37 0 0 34 0 0 1 ...\n",
      " $ Smokes..packs.year.               : int  0 0 0 37 0 0 3 0 0 2 ...\n",
      " $ Hormonal.Contraceptives           : logi  FALSE FALSE FALSE TRUE TRUE FALSE ...\n",
      " $ Hormonal.Contraceptives..years.   : int  0 0 0 3 15 0 0 2 0 0 ...\n",
      " $ IUD                               : logi  FALSE FALSE FALSE FALSE FALSE FALSE ...\n",
      " $ IUD..years.                       : int  0 0 0 0 0 0 7 7 0 NA ...\n",
      " $ STDs                              : logi  FALSE FALSE FALSE FALSE FALSE FALSE ...\n",
      " $ STDs..number.                     : int  0 0 0 0 0 0 0 0 0 0 ...\n",
      " $ STDs.condylomatosis               : logi  FALSE FALSE FALSE FALSE FALSE FALSE ...\n",
      " $ STDs.cervical.condylomatosis      : logi  FALSE FALSE FALSE FALSE FALSE FALSE ...\n",
      " $ STDs.vaginal.condylomatosis       : logi  FALSE FALSE FALSE FALSE FALSE FALSE ...\n",
      " $ STDs.vulvo.perineal.condylomatosis: logi  FALSE FALSE FALSE FALSE FALSE FALSE ...\n",
      " $ STDs.syphilis                     : logi  FALSE FALSE FALSE FALSE FALSE FALSE ...\n",
      " $ STDs.pelvic.inflammatory.disease  : logi  FALSE FALSE FALSE FALSE FALSE FALSE ...\n",
      " $ STDs.genital.herpes               : logi  FALSE FALSE FALSE FALSE FALSE FALSE ...\n",
      " $ STDs.molluscum.contagiosum        : logi  FALSE FALSE FALSE FALSE FALSE FALSE ...\n",
      " $ STDs.AIDS                         : logi  FALSE FALSE FALSE FALSE FALSE FALSE ...\n",
      " $ STDs.HIV                          : logi  FALSE FALSE FALSE FALSE FALSE FALSE ...\n",
      " $ STDs.Hepatitis.B                  : logi  FALSE FALSE FALSE FALSE FALSE FALSE ...\n",
      " $ STDs.HPV                          : logi  FALSE FALSE FALSE FALSE FALSE FALSE ...\n",
      " $ STDs..Number.of.diagnosis         : int  0 0 0 0 0 0 0 0 0 0 ...\n",
      " $ STDs..Time.since.first.diagnosis  : int  NA NA NA NA NA NA NA NA NA NA ...\n",
      " $ STDs..Time.since.last.diagnosis   : int  NA NA NA NA NA NA NA NA NA NA ...\n",
      " $ Dx.Cancer                         : logi  FALSE FALSE FALSE TRUE FALSE FALSE ...\n",
      " $ Dx.CIN                            : logi  FALSE FALSE FALSE FALSE FALSE FALSE ...\n",
      " $ Dx.HPV                            : logi  FALSE FALSE FALSE TRUE FALSE FALSE ...\n",
      " $ Dx                                : logi  FALSE FALSE FALSE FALSE FALSE FALSE ...\n",
      " $ Hinselmann                        : logi  FALSE FALSE FALSE FALSE FALSE FALSE ...\n",
      " $ Schiller                          : logi  FALSE FALSE FALSE FALSE FALSE FALSE ...\n",
      " $ Citology                          : logi  FALSE FALSE FALSE FALSE FALSE FALSE ...\n",
      " $ Biopsy                            : logi  FALSE FALSE FALSE FALSE FALSE FALSE ...\n"
     ]
    }
   ],
   "source": [
    "data_typeFixed = data_mv\n",
    "\n",
    "names_toInteger = c(\"Number.of.sexual.partners\", \"First.sexual.intercourse\", \"Num.of.pregnancies\", \"Smokes..years.\",\n",
    "                    \"Smokes..packs.year.\", \"Hormonal.Contraceptives..years.\", \"IUD..years.\", \"STDs..number.\", \"STDs..Time.since.first.diagnosis\",\n",
    "                    \"STDs..Time.since.last.diagnosis\")\n",
    "names_toLogical = c(\"Smokes\", \"Hormonal.Contraceptives\", \"IUD\", \"STDs\", \"STDs.condylomatosis\", \"STDs.cervical.condylomatosis\", \"STDs.vaginal.condylomatosis\", \n",
    "                    \"STDs.vulvo.perineal.condylomatosis\", \"STDs.syphilis\", \"STDs.pelvic.inflammatory.disease\", \"STDs.genital.herpes\",\n",
    "                    \"STDs.molluscum.contagiosum\", \"STDs.AIDS\", \"STDs.HIV\", \"STDs.Hepatitis.B\", \"STDs.HPV\", \"Dx.Cancer\", \"Dx.CIN\", \"Dx.HPV\", \"Dx\", \n",
    "                    \"Hinselmann\", \"Schiller\", \"Citology\", \"Biopsy\")\n",
    "for(name in names_toInteger){\n",
    "  data_typeFixed[ , name] = as.integer(as.character(data_typeFixed[ , name]))\n",
    "}\n",
    "for(name in names_toLogical){\n",
    "  data_typeFixed[ , name] = as.logical(as.integer(as.character(data_typeFixed[ , name])))\n",
    "}\n",
    "str(data_typeFixed)"
   ]
  },
  {
   "cell_type": "markdown",
   "metadata": {},
   "source": [
    "## 3.3 Look for Outliers "
   ]
  },
  {
   "cell_type": "code",
   "execution_count": 8,
   "metadata": {
    "scrolled": false
   },
   "outputs": [
    {
     "name": "stdout",
     "output_type": "stream",
     "text": [
      "[1] \"Example histogram\"\n"
     ]
    },
    {
     "data": {
      "image/png": "[encoded data removed]",
      "text/plain": [
       "Plot with title \"Feature Name: Age\""
      ]
     },
     "metadata": {},
     "output_type": "display_data"
    }
   ],
   "source": [
    "# for(name in names(data_typeFixed)){\n",
    "#   if(class(data_typeFixed[, name]) == \"integer\"){\n",
    "#     windows(width=9, height=6, pointsize=12) \n",
    "#     hist(data_typeFixed[, name], main = paste0(\"Feature Name: \", name), xlab = \"\")\n",
    "#   }\n",
    "# }\n",
    "print(\"Example histogram\")\n",
    "hist(data_typeFixed[, \"Age\"], main = paste0(\"Feature Name: \", \"Age\"), xlab = \"Years\", col=\"salmon\")"
   ]
  },
  {
   "cell_type": "markdown",
   "metadata": {},
   "source": [
    "### Comments:\n",
    "- No outliers (values that sem unreasonably high/low) have been observed in all the histograms."
   ]
  },
  {
   "cell_type": "markdown",
   "metadata": {},
   "source": [
    "## 3.4 Feature Engineering"
   ]
  },
  {
   "cell_type": "markdown",
   "metadata": {},
   "source": [
    "### 3.4.1 Age Buckets  - divide patients into age groups, so that each group is of equal size"
   ]
  },
  {
   "cell_type": "code",
   "execution_count": 9,
   "metadata": {},
   "outputs": [
    {
     "data": {},
     "metadata": {},
     "output_type": "display_data"
    },
    {
     "data": {
      "image/png": "[encoded data removed]",
      "text/plain": [
       "plot without title"
      ]
     },
     "metadata": {},
     "output_type": "display_data"
    }
   ],
   "source": [
    "data_newFeatures = data_typeFixed\n",
    "\n",
    "theme_set(theme_classic())\n",
    "g1 <- ggplot(data_newFeatures, aes(Age))\n",
    "g1 <-  g1 + geom_histogram(binwidth = .3, col = \"salmon\", size = .3) +\n",
    "  labs(title=\"Histogram of Age\")\n",
    "g1"
   ]
  },
  {
   "cell_type": "markdown",
   "metadata": {},
   "source": [
    "### Comments:\n",
    "- One can see that the patients' age distribution is highly skewed to the right. Therfore there will be more Age-buckets in the lower end of the distribution (0 - 30 years old) and 1-2 buckets summing all patients whose age is 30+."
   ]
  },
  {
   "cell_type": "code",
   "execution_count": 10,
   "metadata": {},
   "outputs": [
    {
     "name": "stdout",
     "output_type": "stream",
     "text": [
      "[1] \"Number of Datapoints assigned to each age bucket (1-5)\"\n"
     ]
    },
    {
     "data": {
      "text/plain": [
       "\n",
       "  1   2   3   4   5 \n",
       "179 175 186 165 153 "
      ]
     },
     "metadata": {},
     "output_type": "display_data"
    }
   ],
   "source": [
    "numberOfBuckets <- 5\n",
    "bucketStep <- round(dim(data_newFeatures)[1]/numberOfBuckets)\n",
    "bucketLimitsIndices <- seq(0, dim(data_newFeatures)[1], bucketStep)\n",
    "\n",
    "bucketLimitsAges <- data_newFeatures[order(data_newFeatures$Age), \"Age\"][bucketLimitsIndices]\n",
    "bucketLimitsAges <- c(1, bucketLimitsAges, Inf)\n",
    "\n",
    "\n",
    "for(bucketNumber in 1:(length(bucketLimitsAges)-1)){\n",
    "  data_newFeatures$Age.bucket[  data_newFeatures$Age > bucketLimitsAges[bucketNumber] & data_newFeatures$Age <= bucketLimitsAges[bucketNumber+1]   ] <- bucketNumber\n",
    "}\n",
    "print(\"Number of Datapoints assigned to each age bucket (1-5)\")\n",
    "table(data_newFeatures$Age.bucket)"
   ]
  },
  {
   "cell_type": "code",
   "execution_count": 11,
   "metadata": {},
   "outputs": [
    {
     "name": "stdout",
     "output_type": "stream",
     "text": [
      "[1] \"Number of Datapoints assigned to each age bucket (1-5)\"\n"
     ]
    },
    {
     "data": {
      "text/plain": [
       "\n",
       " 1  2  4  5  6  7  9 10 11 12 13 14 15 16 17 18 19 20 \n",
       "50 85 44 45 46 84 39 39 71 37 33 35 45 52 29 41 43 40 "
      ]
     },
     "metadata": {},
     "output_type": "display_data"
    }
   ],
   "source": [
    "numberOfBuckets <- 20\n",
    "bucketStep <- round(dim(data_newFeatures)[1]/numberOfBuckets)\n",
    "bucketLimitsIndices <- seq(0, dim(data_newFeatures)[1], bucketStep)\n",
    "\n",
    "bucketLimitsAges <- data_newFeatures[order(data_newFeatures$Age), \"Age\"][bucketLimitsIndices]\n",
    "bucketLimitsAges <- c(1, bucketLimitsAges, Inf)\n",
    "\n",
    "\n",
    "for(bucketNumber in 1:(length(bucketLimitsAges)-1)){\n",
    "  data_newFeatures$Age.bucket.granular[  data_newFeatures$Age > bucketLimitsAges[bucketNumber] & data_newFeatures$Age <= bucketLimitsAges[bucketNumber+1]   ] <- bucketNumber\n",
    "}\n",
    "print(\"Number of Datapoints assigned to each age bucket (1-5)\")\n",
    "table(data_newFeatures$Age.bucket.granular)"
   ]
  },
  {
   "cell_type": "code",
   "execution_count": 12,
   "metadata": {},
   "outputs": [
    {
     "data": {},
     "metadata": {},
     "output_type": "display_data"
    },
    {
     "data": {
      "image/png": "[encoded data removed]",
      "text/plain": [
       "plot without title"
      ]
     },
     "metadata": {},
     "output_type": "display_data"
    }
   ],
   "source": [
    "#-- Plot age distribution in each Bucket on one plot:\n",
    "g <- ggplot(data_newFeatures, aes(Age))\n",
    "g + geom_density(aes(fill=factor(Age.bucket)), alpha=0.8) +\n",
    "    labs(title = \"Age distribution in different Age buckets\",\n",
    "        x = \"Age\",\n",
    "        fill = \"Age bucket\")\n",
    "\n"
   ]
  },
  {
   "cell_type": "markdown",
   "metadata": {},
   "source": [
    "### Comments:\n",
    "- We can observe that first 4 buckets have approx. the same width (they cover similar age spans). The 5th bucket comprises of People.\n",
    "- Distributions of bucket 2, 3, 4 look pretty close to bimodial distribution and bucket 5 resembles poisson distrobution.\n",
    "- Also 5th bucket is strongly skewed to the right, since there was only very few patients whose age was more than 50 years old."
   ]
  },
  {
   "cell_type": "markdown",
   "metadata": {},
   "source": [
    "### 3.4.2 Sum of the number of cancer indicators\n",
    "#### There are 4 indicator given in the database, namely: \n",
    "- Hinselmann\n",
    "- Schiller\n",
    "- Citology\n",
    "- Biopsy"
   ]
  },
  {
   "cell_type": "code",
   "execution_count": 13,
   "metadata": {},
   "outputs": [],
   "source": [
    "data_newFeatures[\"Number.cancer.indicators\"] <- apply(X = data_newFeatures[, c(\"Hinselmann\", \"Schiller\", \"Citology\",\"Biopsy\")], MARGIN=1, FUN=sum)"
   ]
  },
  {
   "cell_type": "markdown",
   "metadata": {},
   "source": [
    "### 3.4.3 Age of the first diagnosis"
   ]
  },
  {
   "cell_type": "code",
   "execution_count": 14,
   "metadata": {},
   "outputs": [],
   "source": [
    "data_newFeatures[\"Age.first.std.diagnosis\"] <- data_newFeatures[\"Age\"] - data_newFeatures[\"STDs..Time.since.first.diagnosis\"]"
   ]
  },
  {
   "cell_type": "markdown",
   "metadata": {},
   "source": [
    "### 3.4.5 Age of the first hormonal contraceptives "
   ]
  },
  {
   "cell_type": "code",
   "execution_count": 15,
   "metadata": {},
   "outputs": [],
   "source": [
    "data_newFeatures[\"Age.first.hormonal.contraceptives\"] <- data_newFeatures[\"Age\"] - data_newFeatures[\"Hormonal.Contraceptives..years.\"]"
   ]
  },
  {
   "cell_type": "markdown",
   "metadata": {},
   "source": [
    "# 4. Visualizations\n",
    "#### - Before attempting to build any models we would like to understand the dataset better, we may at low cost find useful information without deploying \"heavy\" algorithm-machines.\n",
    "#### -  Insights from this part may be helpful in taking the data for the next steps of building prediction model."
   ]
  },
  {
   "cell_type": "markdown",
   "metadata": {},
   "source": [
    "## 4.1 Feature Correlations\n",
    "- Let's see how each numerical feature affects the other"
   ]
  },
  {
   "cell_type": "code",
   "execution_count": 16,
   "metadata": {},
   "outputs": [
    {
     "name": "stdout",
     "output_type": "stream",
     "text": [
      "[1] \"Number of patients for whom First Diagnosis was also their Last Diagnosis: 68\"\n",
      "[1] \"Number of patients for whom First Diagnosis was NOT their Last Diagnosis: 3\"\n"
     ]
    },
    {
     "data": {
      "image/png": "[encoded data removed]",
      "text/plain": [
       "plot without title"
      ]
     },
     "metadata": {},
     "output_type": "display_data"
    },
    {
     "data": {
      "image/png": "[encoded data removed]",
      "text/plain": [
       "plot without title"
      ]
     },
     "metadata": {},
     "output_type": "display_data"
    }
   ],
   "source": [
    "data_final <- data_newFeatures\n",
    "\n",
    "numeric_features <- c(\"STDs..Time.since.first.diagnosis\", \"STDs..Time.since.last.diagnosis\",\n",
    "                      \"STDs..number.\", \"IUD..years.\", \"Hormonal.Contraceptives..years.\",\n",
    "                      \"Smokes..packs.year.\", \"Smokes..years.\", \"First.sexual.intercourse\", \n",
    "                      \"Number.of.sexual.partners\", \"Age\")\n",
    "corr_pearson <- cor(data_final[, numeric_features], use = \"pairwise.complete.obs\", method = \"pearson\")\n",
    "g1 <- ggcorrplot(corr_pearson, hc.order = TRUE, type =\"lower\", lab = TRUE,\n",
    "           lab_size = 3, method=\"circle\", colors =c(\"tomato2\", \"white\", \"springgreen3\"),\n",
    "           title = \"Pearson's Correlogram of Numeric Features\\nCervical Cancer Indicators\",\n",
    "           ggtheme = theme_bw)\n",
    "\n",
    "#-- Let's use Spearman correlation coef. in order to see whether there are any nonlinear relations that Pearson's algorithm couldn't catch out.\n",
    "corr_spearman <- cor(data_final[, numeric_features], use = \"pairwise.complete.obs\", method = \"spearman\")\n",
    "\n",
    "g2 <- ggcorrplot(corr_spearman, hc.order = TRUE, type =\"lower\", lab = TRUE,\n",
    "           lab_size = 3, method=\"circle\", colors =c(\"tomato2\", \"white\", \"springgreen3\"),\n",
    "           title = \"Spearman's Correlogram of Numeric Features\\nCervical Cancer Indicators\",\n",
    "           ggtheme = theme_bw)\n",
    "\n",
    "print(paste0(\"Number of patients for whom First Diagnosis was also their Last Diagnosis: \", as.character(sum(data_final[, \"STDs..Time.since.last.diagnosis\"] == data_final[, \"STDs..Time.since.first.diagnosis\"], na.rm = T))))\n",
    "print(paste0(\"Number of patients for whom First Diagnosis was NOT their Last Diagnosis: \",  as.character(sum(data_final[, \"STDs..Time.since.last.diagnosis\"] != data_final[, \"STDs..Time.since.first.diagnosis\"], na.rm = T))))\n",
    "\n",
    "print(g1)\n",
    "print(g2)"
   ]
  },
  {
   "cell_type": "markdown",
   "metadata": {},
   "source": [
    "###  Comments:\n",
    "- One can observe in both plots high correlation (Pearson-0.7, Spearman - 0.77) between number of years when a person smokes and number of smoke-packs a year. This might tell us, that the longer a person smokes, the more packs she wants to smoke as time passes by, indicating progressing addiction.\n",
    "- The biggest correlation has been observed between features: \"STDs..Time.since.last.diagnosis\" and \"STDs..Time.since.first.diagnosis\" (Pearson-0.93, Spearman - 0.92). However it might be very misleading since for 68 out of 71 patients for whom data was available the first diagnosis was also the last diagnosis done. It might be beneficial for the possible prediction model to remove one of these features as it does not provide much new information in the dataset.\n",
    "- Another interesting observation wasis that There is medium positive correlation between \"First.sexual.intercourse\" and \"Age\" (Pearson-0.37, Spearman - 0.44). It shows that the older is the patient, the later she had first sexual intercourse. It might be related with more \"conservative\" approach to sex in the past in the analyzed society. However it is not part of this particular study, therefore it won't be investigated any further.\n"
   ]
  },
  {
   "cell_type": "markdown",
   "metadata": {},
   "source": [
    "## 4.2 Answering Questions with Plots"
   ]
  },
  {
   "cell_type": "markdown",
   "metadata": {},
   "source": [
    "### 4.2.1 Does \"Number of Sexual Partners\" provide information on \"Number of Indicators of a Cancer\" ?"
   ]
  },
  {
   "cell_type": "code",
   "execution_count": 17,
   "metadata": {
    "scrolled": false
   },
   "outputs": [
    {
     "name": "stderr",
     "output_type": "stream",
     "text": [
      "Warning message:\n",
      "\"Removed 26 rows containing non-finite values (stat_count).\"Warning message:\n",
      "\"Removed 26 rows containing non-finite values (stat_count).\""
     ]
    },
    {
     "data": {
      "image/png": "[encoded data removed]",
      "text/plain": [
       "plot without title"
      ]
     },
     "metadata": {},
     "output_type": "display_data"
    },
    {
     "data": {
      "image/png": "[encoded data removed]",
      "text/plain": [
       "plot without title"
      ]
     },
     "metadata": {},
     "output_type": "display_data"
    }
   ],
   "source": [
    "options(repr.plot.width=8, repr.plot.height=4)\n",
    "\n",
    "theme_set(theme_classic())\n",
    "g1 <- ggplot(data_final, aes(Number.of.sexual.partners)) +\n",
    "    geom_bar(aes(fill=factor(Number.cancer.indicators)), width=0.5) +\n",
    "    labs(title=\"Number of Sexual Partners w.r.t Number of Cancer indicators\",\n",
    "        subtitle=\" --- Full Barplot View --- \", \n",
    "         fill=\"# Cancer Indicators\")\n",
    "g2 <- ggplot(data_final, aes(Number.of.sexual.partners)) +\n",
    "    geom_bar(aes(fill=factor(Number.cancer.indicators)), width=0.5) +\n",
    "    coord_cartesian(ylim=c(0, 40)) +\n",
    "    labs(subtitle=\" --- Zoomed-in View --- \", \n",
    "         fill=\"# Cancer Indicators\")\n",
    "plot(g1)\n",
    "plot(g2)"
   ]
  },
  {
   "cell_type": "markdown",
   "metadata": {},
   "source": [
    "### Comments:\n",
    "- Proportions of Number of Cancer indicators depending on Number of sexual partner seems to be stable. We cannot therefore state that increased number of Sexual Partners leads to increased number of indicators."
   ]
  },
  {
   "cell_type": "markdown",
   "metadata": {},
   "source": [
    "### 4.2.2 What is the distribution  of the Time of Hormonal Contraceptives Usage in each separate Indicator Factor (Hinselmann, Schiller, Citology, Biopsy)"
   ]
  },
  {
   "cell_type": "code",
   "execution_count": 18,
   "metadata": {
    "scrolled": false
   },
   "outputs": [
    {
     "name": "stderr",
     "output_type": "stream",
     "text": [
      "Warning message:\n",
      "\"New theme missing the following elements: panel.grid\"Warning message:\n",
      "\"Ignoring unknown parameters: varwidth\"Warning message:\n",
      "\"Ignoring unknown parameters: varwidth\"Warning message:\n",
      "\"Ignoring unknown parameters: varwidth\"Warning message:\n",
      "\"Ignoring unknown parameters: varwidth\"Warning message:\n",
      "\"Removed 108 rows containing non-finite values (stat_ydensity).\"Warning message:\n",
      "\"Removed 108 rows containing non-finite values (stat_ydensity).\""
     ]
    },
    {
     "data": {
      "image/png": "[encoded data removed]",
      "text/plain": [
       "plot without title"
      ]
     },
     "metadata": {},
     "output_type": "display_data"
    },
    {
     "name": "stderr",
     "output_type": "stream",
     "text": [
      "Warning message:\n",
      "\"Removed 108 rows containing non-finite values (stat_ydensity).\""
     ]
    },
    {
     "data": {
      "image/png": "[encoded data removed]",
      "text/plain": [
       "plot without title"
      ]
     },
     "metadata": {},
     "output_type": "display_data"
    },
    {
     "name": "stderr",
     "output_type": "stream",
     "text": [
      "Warning message:\n",
      "\"Removed 108 rows containing non-finite values (stat_ydensity).\""
     ]
    },
    {
     "data": {
      "image/png": "[encoded data removed]",
      "text/plain": [
       "plot without title"
      ]
     },
     "metadata": {},
     "output_type": "display_data"
    },
    {
     "data": {
      "image/png": "[encoded data removed]",
      "text/plain": [
       "plot without title"
      ]
     },
     "metadata": {},
     "output_type": "display_data"
    }
   ],
   "source": [
    "options(repr.plot.width=5, repr.plot.height=4)\n",
    "theme_set(theme_test())\n",
    "g_hinselmann <- ggplot(data_final, aes(Hinselmann, Hormonal.Contraceptives..years.)) +\n",
    "    geom_violin(varwidth=TRUE, fill=\"plum\") + \n",
    "    labs(title=\"Box Plots Years of Hormonal Contraceptives Usage\\ndepending on Hinselmann-Cancer-Indicator\",\n",
    "         x=\"is Hinselmann Indicator positive?\",\n",
    "         y=\"Years of Hormonal Contraceptives Usage\") +\n",
    "    annotate(\"label\", x=2.3, y=12, label=paste0(\"Group size:\", sum(data_final$Hinselmann[!is.na(data_final$Hormonal.Contraceptives..years.)]))) +\n",
    "    annotate(\"label\", x=1.3, y=12, label=paste0(\"Group size:\", sum(!data_final$Hinselmann[!is.na(data_final$Hormonal.Contraceptives..years.)]))) +\n",
    "    \n",
    "    coord_flip()\n",
    "\n",
    "g_schiller <- ggplot(data_final, aes(Schiller, Hormonal.Contraceptives..years.)) +\n",
    "    geom_violin(varwidth=TRUE, fill=\"tomato2\") + \n",
    "    labs(title=\"Box Plots Years of Hormonal Contraceptives Usage\\ndepending on Schiller-Cancer-Indicator\",\n",
    "         x=\"is Schiller Indicator positive?\",\n",
    "         y=\"Years of Hormonal Contraceptives Usage\") +\n",
    "    annotate(\"label\", x=2.3, y=12, label=paste0(\"Group size:\", sum(data_final$Schiller[!is.na(data_final$Hormonal.Contraceptives..years.)]))) +\n",
    "    annotate(\"label\", x=1.3, y=12, label=paste0(\"Group size:\", sum(!data_final$Schiller[!is.na(data_final$Hormonal.Contraceptives..years.)]))) +\n",
    "    coord_flip()\n",
    "\n",
    "g_citology <- ggplot(data_final, aes(Citology, Hormonal.Contraceptives..years.)) +\n",
    "    geom_violin(varwidth=TRUE, fill=\"deepskyblue3\") + \n",
    "    labs(title=\"Box Plots Years of Hormonal Contraceptives Usage\\ndepending on Citology-Cancer-Indicator\",\n",
    "         x=\"is Citology Indicator positive?\",\n",
    "         y=\"Years of Hormonal Contraceptives Usage\") +\n",
    "    annotate(\"label\", x=2.3, y=12, label=paste0(\"Group size:\", sum(data_final$Citology[!is.na(data_final$Hormonal.Contraceptives..years.)]))) +\n",
    "    annotate(\"label\", x=1.3, y=12, label=paste0(\"Group size:\", sum(!data_final$Citology[!is.na(data_final$Hormonal.Contraceptives..years.)]))) +\n",
    "    coord_flip()\n",
    "\n",
    "g_biopsy <- ggplot(data_final, aes(Biopsy, Hormonal.Contraceptives..years.)) +\n",
    "    geom_violin(varwidth=TRUE, fill=\"chocolate3\") + \n",
    "    labs(title=\"Box Plots Years of Hormonal Contraceptives Usage\\ndepending on Biopsy-Cancer-Indicator\",\n",
    "         x=\"is Biopsy Indicator positive?\",\n",
    "         y=\"Years of Hormonal Contraceptives Usage\") +\n",
    "    annotate(\"label\", x=2.3, y=12, label=paste0(\"Group size:\", sum(data_final$Biopsy[!is.na(data_final$Hormonal.Contraceptives..years.)]))) +\n",
    "    annotate(\"label\", x=1.3, y=12, label=paste0(\"Group size:\", sum(!data_final$Biopsy[!is.na(data_final$Hormonal.Contraceptives..years.)]))) +\n",
    "    coord_flip()\n",
    "\n",
    "\n",
    "plot(g_hinselmann)\n",
    "plot(g_schiller)\n",
    "plot(g_citology)\n",
    "plot(g_biopsy)"
   ]
  },
  {
   "cell_type": "markdown",
   "metadata": {},
   "source": [
    "### Comments:\n",
    "- It looks like distributions have very similar shapes among all Cancer indicators when analyzed separately whether an indicator is positive or negative.\n",
    "- At about 10 years of using hormonal contraceptives, proportion of patients with positive result (is *indicator* positive == TRUE) of Indicator's presence is greater than for patients with negative result(is *indicator* positive == FALSE).\n",
    "- For each Indicator for patients who did not use contraceptives (Years of Hormonal Contraceptives Usage = 0) proportion of number of patients with positive result (is *indicator* positive == TRUE) is smaller than with negative result (is *indicator* positive == FALSE)."
   ]
  },
  {
   "cell_type": "markdown",
   "metadata": {},
   "source": [
    "### 4.2.3 What is average Number of Pregnancies among patients without/with any Indicator being positive, with regards to Age ? (Consider Reproductive Age of Women)"
   ]
  },
  {
   "cell_type": "code",
   "execution_count": 44,
   "metadata": {},
   "outputs": [
    {
     "name": "stderr",
     "output_type": "stream",
     "text": [
      "Warning message:\n",
      "\"Removed 12 rows containing missing values (position_stack).\""
     ]
    },
    {
     "data": {},
     "metadata": {},
     "output_type": "display_data"
    },
    {
     "data": {
      "image/png": "[encoded data removed]",
      "text/plain": [
       "plot without title"
      ]
     },
     "metadata": {},
     "output_type": "display_data"
    }
   ],
   "source": [
    "options(repr.plot.width=8, repr.plot.height=6)\n",
    "data_pregnancies <- data.frame(age = character(), isIndicatorPositive = logical(), avgNumPregnancies = numeric())\n",
    "\n",
    "menopauseAge <- 51\n",
    "\n",
    "for(isIndicatorPositive in c(TRUE, FALSE) ){\n",
    "    for(age in sort(unique(data_final$Age[data_final$Age <= menopauseAge]))){\n",
    "        data_pregnancies <- rbind(data_pregnancies, data.frame(age = age,\n",
    "                                                               isIndicatorPositive = isIndicatorPositive,\n",
    "                                                               avgNumPregnancies = ifelse(isIndicatorPositive, \n",
    "                                                                                          mean(data_final$Num.of.pregnancies[data_final$Number.cancer.indicators >= 1 & data_final$Age == age]*-1, na.rm=TRUE), \n",
    "                                                                                          mean(data_final$Num.of.pregnancies[data_final$Number.cancer.indicators == 0 & data_final$Age == age], na.rm=TRUE)\n",
    "                                                                                         )\n",
    "                                                              )\n",
    "                                  )\n",
    "    }\n",
    "}\n",
    "\n",
    "                          \n",
    "                          \n",
    "brks <- seq(0, 800, 50)\n",
    "lbls <- paste0(as.character(c(seq(750, 0, -50), 50 )))\n",
    "\n",
    "g <- ggplot(data_pregnancies, aes(x = age, y = avgNumPregnancies, fill = isIndicatorPositive)) +\n",
    "        geom_bar(stat=\"identity\", width=0.8) +\n",
    "        #scale_y_continuous(breaks=brks, labels = lbls) +\n",
    "        coord_flip() +\n",
    "        labs(title=\"Pregnancies\",\n",
    "             x = \"Average Number of Pregnancies\",\n",
    "             y = \"Age\",\n",
    "             fill = \"Is at least 1\\nindicator positive\") + \n",
    "        theme_tufte() +\n",
    "        theme(plot.title=element_text(hjust=0.5),\n",
    "              axis.ticks=element_blank()) +\n",
    "        scale_fill_brewer(palette=\"Dark2\")\n",
    "\n",
    "g"
   ]
  },
  {
   "cell_type": "markdown",
   "metadata": {},
   "source": [
    "### Comments:\n",
    "- Age of 51 has been chosen as Average Age of Menopause. Age at which female fertility vanishes.\n",
    "- As one would expect, number of pregnancies is steadily growing towards higher ages.\n",
    "- On average we can infer from the graph, that there is no difference in number of pregnancies and whether or not patient has any cancer indicators. These 2 events might be not affecting each other at all.\n",
    "- However it seems that since the age of 40, patients who had any positive indicator decide not to get pregnant or they cannot get pregnant as easily as persons without presence of any indicators. Other explaination to this observance, might be fact, that there is much less patients in our data sample after the age of 40, and even less patients older than 40 and having any indicator positive. Thus one must keep in mind high variability of outcome in this particular age range."
   ]
  }
 ],
 "metadata": {
  "kernelspec": {
   "display_name": "R",
   "language": "R",
   "name": "ir"
  },
  "language_info": {
   "codemirror_mode": "r",
   "file_extension": ".r",
   "mimetype": "text/x-r-source",
   "name": "R",
   "pygments_lexer": "r",
   "version": "3.5.1"
  }
 },
 "nbformat": 4,
 "nbformat_minor": 2
}
